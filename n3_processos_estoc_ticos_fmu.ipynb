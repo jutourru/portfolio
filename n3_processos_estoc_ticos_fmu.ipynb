{
  "nbformat": 4,
  "nbformat_minor": 0,
  "metadata": {
    "colab": {
      "provenance": [],
      "authorship_tag": "ABX9TyPJEH06wFn/MwKwnBJ355Tc",
      "include_colab_link": true
    },
    "kernelspec": {
      "name": "python3",
      "display_name": "Python 3"
    },
    "language_info": {
      "name": "python"
    }
  },
  "cells": [
    {
      "cell_type": "markdown",
      "metadata": {
        "id": "view-in-github",
        "colab_type": "text"
      },
      "source": [
        "<a href=\"https://colab.research.google.com/github/jutourru/portfolio/blob/main/n3_processos_estoc_ticos_fmu.ipynb\" target=\"_parent\"><img src=\"https://colab.research.google.com/assets/colab-badge.svg\" alt=\"Open In Colab\"/></a>"
      ]
    },
    {
      "cell_type": "code",
      "execution_count": null,
      "metadata": {
        "colab": {
          "base_uri": "https://localhost:8080/"
        },
        "id": "f6JtGDF8SI7B",
        "outputId": "ca835272-0edd-4231-9cb9-398f832ae3d6"
      },
      "outputs": [
        {
          "output_type": "stream",
          "name": "stdout",
          "text": [
            "Resultados da simulação:\n",
            "Vitórias: 960\n",
            "Derrotas: 1405\n",
            "Continuações: 2635\n"
          ]
        }
      ],
      "source": [
        "import random\n",
        "\n",
        "def roll_dice():\n",
        "    \"\"\"Simula o lançamento de três dados.\"\"\"\n",
        "    return [random.randint(1, 6) for _ in range(3)]\n",
        "\n",
        "def calculate_sum(rolls):\n",
        "    \"\"\"Calcula a soma dos valores obtidos nos lançamentos.\"\"\"\n",
        "    return sum(rolls)\n",
        "\n",
        "def play_game():\n",
        "    \"\"\"Executa uma rodada do jogo e retorna o resultado.\"\"\"\n",
        "    rolls = roll_dice()\n",
        "    total_sum = calculate_sum(rolls)\n",
        "    if total_sum in (8, 13):\n",
        "        return 'win'\n",
        "    elif total_sum in (4, 5, 7, 11, 15, 19):\n",
        "        return 'lose'\n",
        "    else:\n",
        "        return 'continue'\n",
        "\n",
        "def monte_carlo_simulation(num_simulations):\n",
        "    \"\"\"Realiza a simulação de Monte Carlo do jogo.\"\"\"\n",
        "    results = {'win': 0, 'lose': 0, 'continue': 0}\n",
        "    for _ in range(num_simulations):\n",
        "        result = play_game()\n",
        "        results[result] += 1\n",
        "    return results\n",
        "\n",
        "def main():\n",
        "    num_simulations = 5000\n",
        "    simulation_results = monte_carlo_simulation(num_simulations)\n",
        "    print(\"Resultados da simulação:\")\n",
        "    print(f\"Vitórias: {simulation_results['win']}\")\n",
        "    print(f\"Derrotas: {simulation_results['lose']}\")\n",
        "    print(f\"Continuações: {simulation_results['continue']}\")\n",
        "\n",
        "if __name__ == \"__main__\":\n",
        "    main()"
      ]
    }
  ]
}